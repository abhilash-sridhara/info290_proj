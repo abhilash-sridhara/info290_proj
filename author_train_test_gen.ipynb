{
 "cells": [
  {
   "cell_type": "code",
   "execution_count": 1,
   "metadata": {},
   "outputs": [],
   "source": [
    "import os\n",
    "import xml.etree.ElementTree as ET\n",
    "from pathlib import Path"
   ]
  },
  {
   "cell_type": "code",
   "execution_count": 2,
   "metadata": {},
   "outputs": [],
   "source": [
    "def getauthxml(path):\n",
    "    auth_files=[]\n",
    "    if os.path.isdir(path):\n",
    "        for entry in os.listdir(path):#         \n",
    "            p = Path(path+'/'+entry)\n",
    "    #         print(p)        \n",
    "            if str(entry).endswith('.xml'):\n",
    "                auth_files.append(str(p))\n",
    "    return(auth_files)"
   ]
  },
  {
   "cell_type": "code",
   "execution_count": 3,
   "metadata": {},
   "outputs": [],
   "source": [
    "def getauthfiles(path='./all_c'):\n",
    "    auth_files={}\n",
    "#     print(path)\n",
    "    for entry in os.listdir(path):\n",
    "        p = path+'/'+entry       \n",
    "        auth_files[entry] = getauthxml(p)         \n",
    "    return auth_files\n",
    "        \n"
   ]
  },
  {
   "cell_type": "code",
   "execution_count": 4,
   "metadata": {},
   "outputs": [
    {
     "data": {
      "text/plain": [
       "5"
      ]
     },
     "execution_count": 4,
     "metadata": {},
     "output_type": "execute_result"
    }
   ],
   "source": [
    "auth_dict=getauthfiles()\n",
    "len(auth_dict)\n"
   ]
  },
  {
   "cell_type": "code",
   "execution_count": 5,
   "metadata": {},
   "outputs": [
    {
     "data": {
      "text/plain": [
       "{'Simon Romero': ['all_c/Simon Romero/1820539.xml',\n",
       "  'all_c/Simon Romero/1566734.xml',\n",
       "  'all_c/Simon Romero/1737022.xml',\n",
       "  'all_c/Simon Romero/1557987.xml',\n",
       "  'all_c/Simon Romero/1735145.xml',\n",
       "  'all_c/Simon Romero/1815788.xml',\n",
       "  'all_c/Simon Romero/1741387.xml',\n",
       "  'all_c/Simon Romero/1558189.xml',\n",
       "  'all_c/Simon Romero/1818942.xml'],\n",
       " 'Adam Liptak': ['all_c/Adam Liptak/1551790.xml',\n",
       "  'all_c/Adam Liptak/1821592.xml',\n",
       "  'all_c/Adam Liptak/1819888.xml',\n",
       "  'all_c/Adam Liptak/1750467.xml',\n",
       "  'all_c/Adam Liptak/1730769.xml',\n",
       "  'all_c/Adam Liptak/1558296.xml',\n",
       "  'all_c/Adam Liptak/1551184.xml',\n",
       "  'all_c/Adam Liptak/1731080.xml',\n",
       "  'all_c/Adam Liptak/1816585.xml'],\n",
       " 'Robert Pear': ['all_c/Robert Pear/1733598.xml',\n",
       "  'all_c/Robert Pear/1737057.xml',\n",
       "  'all_c/Robert Pear/1559436.xml',\n",
       "  'all_c/Robert Pear/1732546.xml',\n",
       "  'all_c/Robert Pear/1560883.xml',\n",
       "  'all_c/Robert Pear/1553500.xml',\n",
       "  'all_c/Robert Pear/1818224.xml',\n",
       "  'all_c/Robert Pear/1822147.xml',\n",
       "  'all_c/Robert Pear/1815915.xml'],\n",
       " 'Adam Nagoury': ['all_c/Adam Nagoury/1744741.xml',\n",
       "  'all_c/Adam Nagoury/1821369.xml',\n",
       "  'all_c/Adam Nagoury/1746337.xml',\n",
       "  'all_c/Adam Nagoury/1817541.xml',\n",
       "  'all_c/Adam Nagoury/1742793.xml',\n",
       "  'all_c/Adam Nagoury/1559892.xml',\n",
       "  'all_c/Adam Nagoury/1548350.xml',\n",
       "  'all_c/Adam Nagoury/1818955.xml',\n",
       "  'all_c/Adam Nagoury/1555924.xml'],\n",
       " 'Maureen Dowd': ['all_c/Maureen Dowd/1730099.xml',\n",
       "  'all_c/Maureen Dowd/1559148.xml',\n",
       "  'all_c/Maureen Dowd/1816709.xml',\n",
       "  'all_c/Maureen Dowd/1573382.xml',\n",
       "  'all_c/Maureen Dowd/1552015.xml',\n",
       "  'all_c/Maureen Dowd/1821063.xml',\n",
       "  'all_c/Maureen Dowd/1822771.xml',\n",
       "  'all_c/Maureen Dowd/1747597.xml',\n",
       "  'all_c/Maureen Dowd/1740512.xml']}"
      ]
     },
     "execution_count": 5,
     "metadata": {},
     "output_type": "execute_result"
    }
   ],
   "source": [
    "auth_dict"
   ]
  },
  {
   "cell_type": "code",
   "execution_count": 6,
   "metadata": {},
   "outputs": [],
   "source": [
    "def writetexttofile(filename,text):\n",
    "    print(filename)\n",
    "    with open(filename,'w') as f:\n",
    "        f.write(text)\n"
   ]
  },
  {
   "cell_type": "code",
   "execution_count": 7,
   "metadata": {},
   "outputs": [],
   "source": [
    "def createtraindata(auth_dict,path='./all_c'):\n",
    "    for auth in auth_dict:\n",
    "        auth_p = path+'/'+auth\n",
    "        auth_files = auth_dict[auth]\n",
    "        auth_text = ''\n",
    "        for file in auth_files:        \n",
    "            tree = ET.parse(file)\n",
    "            root = tree.getroot()\n",
    "            head = root[0]\n",
    "            body_content = root[1][1]\n",
    "            article_text = ''\n",
    "            for block in body_content:\n",
    "#                 print(block)                \n",
    "                if 'full_text' in block.attrib.values():\n",
    "                    for p in block:\n",
    "                        article_text+=p.text+'\\n'\n",
    "            print(len(article_text.split()),'file')\n",
    "            auth_text += article_text+'\\t'\n",
    "        writetexttofile(auth_p+'/'+auth+'.txt',auth_text)\n",
    "#         break"
   ]
  },
  {
   "cell_type": "code",
   "execution_count": 8,
   "metadata": {},
   "outputs": [
    {
     "name": "stdout",
     "output_type": "stream",
     "text": [
      "939 file\n",
      "1136 file\n",
      "821 file\n",
      "1078 file\n",
      "1480 file\n",
      "921 file\n",
      "1528 file\n",
      "1193 file\n",
      "826 file\n",
      "./all_c/Simon Romero/Simon Romero.txt\n",
      "1448 file\n",
      "1636 file\n",
      "943 file\n",
      "511 file\n",
      "1390 file\n",
      "967 file\n",
      "1572 file\n",
      "1071 file\n",
      "2424 file\n",
      "./all_c/Adam Liptak/Adam Liptak.txt\n",
      "1262 file\n",
      "996 file\n",
      "1129 file\n",
      "931 file\n",
      "851 file\n",
      "1320 file\n",
      "790 file\n",
      "1244 file\n",
      "1313 file\n",
      "./all_c/Robert Pear/Robert Pear.txt\n",
      "1508 file\n",
      "1329 file\n",
      "1679 file\n",
      "1001 file\n",
      "1337 file\n",
      "1687 file\n",
      "1373 file\n",
      "1511 file\n",
      "1328 file\n",
      "./all_c/Adam Nagoury/Adam Nagoury.txt\n",
      "801 file\n",
      "748 file\n",
      "782 file\n",
      "722 file\n",
      "754 file\n",
      "766 file\n",
      "765 file\n",
      "793 file\n",
      "805 file\n",
      "./all_c/Maureen Dowd/Maureen Dowd.txt\n"
     ]
    }
   ],
   "source": [
    "createtraindata(auth_dict)"
   ]
  },
  {
   "cell_type": "code",
   "execution_count": 9,
   "metadata": {},
   "outputs": [],
   "source": [
    "def createtestdata(path='./all_c'):        \n",
    "    for fp in os.listdir(path):\n",
    "        auth_files=[]\n",
    "        auth_text=''\n",
    "        if os.path.isdir(Path(path+'\\\\'+fp)):\n",
    "            auth_p = path+'/'+fp+'/test'\n",
    "            auth_files+=getauthxml(auth_p)\n",
    "            print(fp)\n",
    "            print(auth_files)  \n",
    "            for file in auth_files:        \n",
    "                tree = ET.parse(file)\n",
    "                root = tree.getroot()\n",
    "                head = root[0]\n",
    "                body_content = root[1][1]\n",
    "                article_text = ''\n",
    "                for block in body_content:\n",
    "        #                 print(block)                \n",
    "                    if 'full_text' in block.attrib.values():\n",
    "                        for p in block:\n",
    "                            article_text+=p.text+'\\n'\n",
    "    #             print(len(article_text.split()),'file')\n",
    "                auth_text += article_text+'\\t'\n",
    "            writetexttofile(auth_p+'/'+fp+'.txt',auth_text)\n",
    "        "
   ]
  },
  {
   "cell_type": "code",
   "execution_count": 10,
   "metadata": {},
   "outputs": [],
   "source": [
    "createtestdata()"
   ]
  }
 ],
 "metadata": {
  "kernelspec": {
   "display_name": "Python 3",
   "language": "python",
   "name": "python3"
  },
  "language_info": {
   "codemirror_mode": {
    "name": "ipython",
    "version": 3
   },
   "file_extension": ".py",
   "mimetype": "text/x-python",
   "name": "python",
   "nbconvert_exporter": "python",
   "pygments_lexer": "ipython3",
   "version": "3.7.1"
  }
 },
 "nbformat": 4,
 "nbformat_minor": 2
}
