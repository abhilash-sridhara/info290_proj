{
 "cells": [
  {
   "cell_type": "code",
   "execution_count": 1,
   "metadata": {},
   "outputs": [],
   "source": [
    "import os\n",
    "import re\n",
    "import numpy as np\n",
    "from pathlib import Path\n",
    "from scipy import sparse\n",
    "from sklearn import linear_model\n",
    "from collections import Counter\n",
    "from nltk import sent_tokenize, word_tokenize, pos_tag\n",
    "from nltk.stem import WordNetLemmatizer\n",
    "from nltk.corpus import wordnet\n",
    "import sklearn.metrics as smt\n",
    "all_feats={}\n",
    "auth_dict={}\n",
    "auth_map={}\n",
    "auth_models={}"
   ]
  },
  {
   "cell_type": "code",
   "execution_count": 4,
   "metadata": {},
   "outputs": [],
   "source": [
    "def readtext(filepath):\n",
    "    text=''    \n",
    "    with open(filepath,'rb') as f:\n",
    "        text=f.read()\n",
    "    return text"
   ]
  },
  {
   "cell_type": "code",
   "execution_count": 3,
   "metadata": {},
   "outputs": [],
   "source": [
    "def featurize(text):\n",
    "    def get_wordnet_pos(treebank_tag):\n",
    "        if treebank_tag.startswith('J'):\n",
    "            return wordnet.ADJ\n",
    "        elif treebank_tag.startswith('V'):\n",
    "            return wordnet.VERB\n",
    "        elif treebank_tag.startswith('N'):\n",
    "            return wordnet.NOUN\n",
    "        elif treebank_tag.startswith('R'):\n",
    "            return wordnet.ADV\n",
    "        else:\n",
    "            return 'a'\n",
    "    \n",
    "    lm = WordNetLemmatizer()\n",
    "    features={}\n",
    "    voc_count = Counter()\n",
    "    text = text.lower()\n",
    "    text = re.sub('\"[\\S\\s]*?\"','',text)\n",
    "    lines = [len(x.split()) for x in sent_tokenize(text)]\n",
    "    avg_word_pl = sum(lines)/len(lines)    \n",
    "    l = [len(x.split()) for x in text.split('\\n')]\n",
    "    avg_word_pp = sum(l)/len(l)\n",
    "    features['avg_word_pp']=avg_word_pp\n",
    "    features['avg_word_pl']=avg_word_pl\n",
    "    toks = word_tokenize(text)\n",
    "    tok_tags = pos_tag(toks)\n",
    "#     print(toks)\n",
    "    lemmas=[]\n",
    "    words=[]\n",
    "    min_word_depths=Counter()\n",
    "    max_word_depths=Counter()\n",
    "    func_words = []\n",
    "    for word,tag in tok_tags:\n",
    "        words.append(word)\n",
    "        lemmas.append(lm.lemmatize(word,get_wordnet_pos(tag)))\n",
    "        wd_sysnset = wordnet.synsets(word,pos=get_wordnet_pos(tag))\n",
    "        if len(wd_sysnset)>0:\n",
    "            min_word_depths[wd_sysnset[0].min_depth()]+=1\n",
    "            max_word_depths[wd_sysnset[0].max_depth()]+=1\n",
    "        if(get_wordnet_pos(tag) =='a'):\n",
    "            func_words.append(word)\n",
    "            voc_count[word] +=1\n",
    "    unk_toks = set(lemmas)\n",
    "    unk_funk = set(func_words)\n",
    "    \n",
    "    type_tok_ratio = len(unk_toks)/len(toks)\n",
    "    funk_freq = len(unk_funk)/len(toks)\n",
    "    features['type_tok_ratio'] = type_tok_ratio\n",
    "#     features['type_tok_rat'] = len(set(words))/len(words)\n",
    "    features['funk_freq'] = funk_freq\n",
    "    for funk_word in voc_count:\n",
    "        features[funk_word+'_word_count'] = voc_count[funk_word]\n",
    "    for min_depth in min_word_depths:\n",
    "        features['min_word_depth'+str(min_depth)]=min_word_depths[min_depth]\n",
    "    for max_depth in max_word_depths:\n",
    "        features['min_word_depth'+str(max_depth)]=max_word_depths[max_depth]    \n",
    "    return features"
   ]
  },
  {
   "cell_type": "code",
   "execution_count": 6,
   "metadata": {},
   "outputs": [],
   "source": [
    "def get_train_data(path='./all_c'):\n",
    "    data=[]\n",
    "    c=0\n",
    "#     print(path)\n",
    "    for entry in os.listdir(path):\n",
    "        if os.path.isdir(os.path.join(path, entry)):\n",
    "            text = readtext(path+\"/\" +entry+'/'+entry+'.txt')\n",
    "            text = text.decode(\"utf-8\", \"replace\")\n",
    "            print([x.split() for x in sent_tokenize(text)])\n",
    "            break\n",
    "            for article in text.split('\\t'):\n",
    "                if(len(article)>0):\n",
    "                    pass\n",
    "#                     data.append((entry,featurize(article)))\n",
    "            auth_dict[c]=entry\n",
    "            auth_map[entry]=c\n",
    "            c+=1\n",
    "    return data"
   ]
  },
  {
   "cell_type": "code",
   "execution_count": 7,
   "metadata": {},
   "outputs": [
    {
     "name": "stdout",
     "output_type": "stream",
     "text": [
      "[['As', 'the', 'baby', 'boomers', 'age,', 'more', 'and', 'more', 'Americans', 'will', 'either', 'be', 'enduring', 'chronic', 'pain', 'or', 'taking', 'care', 'of', 'someone', 'in', 'pain.'], ['The', 'Republican', 'Party', 'has', 'been', 'reaching', 'out', 'to', 'them', 'with', 'a', 'two-step', 'plan:', '1.'], ['Do', 'not', 'give', 'patients', 'medicine', 'to', 'ease', 'their', 'pain.'], ['2.'], ['If', 'they', 'are', 'in', 'great', 'pain', 'and', 'near', 'death,', 'do', 'not', 'let', 'them', 'put', 'an', 'end', 'to', 'their', 'misery.'], ['The', 'Republicans', 'have', 'been', 'so', 'determined', 'to', 'become', 'the', 'Pain', 'Party', 'that', \"they've\", 'brushed', 'aside', 'their', 'traditional', 'belief', 'in', \"states'\", 'rights.'], ['The', 'Bush', 'administration', 'wants', 'lawyers', 'in', 'Washington', 'and', 'federal', 'prosecutors', 'with', 'no', 'medical', 'training', 'to', 'tell', 'doctors', 'how', 'to', 'treat', 'patients.'], ['As', 'attorney', 'general,', 'John', 'Ashcroft', 'decided', 'that', \"Oregon's\", 'law', 'allowing', 'physician-assisted', 'suicide', 'violated', 'the', 'federal', 'Controlled', 'Substances', 'Act', 'because', 'he', \"didn't\", 'consider', 'this', 'use', 'of', 'drugs', 'to', 'be', 'a', \"''legitimate\", 'medical', \"purpose.''\"], ['Karen', 'Tandy,', 'the', 'head', 'of', 'the', 'Drug', 'Enforcement', 'Administration,', 'has', 'been', 'using', 'this', 'same', 'legal', 'theory', 'to', 'decree', 'how', 'doctors', 'should', 'medicate', 'patients', 'with', 'pain,', 'and', 'those', 'who', 'disagree', 'with', 'her', 'medical', 'judgment', 'can', 'be', 'sent', 'to', 'prison.'], ['You', 'know', 'Republicans', 'have', 'lost', 'their', 'bearings', 'when', 'they', 'need', 'a', 'lesson', 'in', \"states'\", 'rights', 'from', 'Janet', 'Reno,', 'who', 'considered', 'the', 'Oregon', 'law', 'when', 'she', 'was', 'attorney', 'general.'], ['For', 'the', 'federal', 'government', 'to', 'decide', 'what', 'constituted', 'legitimate', 'medicine,', 'she', 'wrote,', 'would', 'wrongly', \"''displace\", 'the', 'states', 'as', 'the', 'primary', 'regulators', 'of', 'the', 'medical', \"profession.''\"], ['The', 'Supreme', 'Court', 'agreed', 'with', 'her', 'this', 'week', 'in', 'upholding', 'the', 'Oregon', 'law.'], ['In', 'the', 'majority', 'opinion,', 'Justice', 'Anthony', 'Kennedy', 'said', 'the', 'federal', 'drug', 'law', 'did', 'not', 'empower', 'the', 'attorney', 'general', \"''to\", 'define', 'general', 'standards', 'of', 'medical', \"practice.''\"], ['It', 'merely', \"''bars\", 'doctors', 'from', 'using', 'their', 'prescription-writing', 'powers', 'as', 'a', 'means', 'to', 'engage', 'in', 'illicit', 'drug', 'dealing', 'and', 'trafficking', 'as', 'conventionally', \"understood.''\"], [\"That's\", 'news', 'to', 'the', 'D.E.A.'], ['and', 'the', 'federal', 'prosecutors,', 'who', 'have', 'gone', 'way', 'beyond', 'any', \"''conventionally\", \"understood''\", 'idea', 'of', 'drug', 'trafficking.'], [\"They've\", 'been', 'prosecuting', 'doctors', 'for', 'prescribing', 'painkillers', 'like', 'OxyContin,', 'even', 'where', \"there's\", 'no', 'evidence', 'of', 'any', 'of', 'the', 'drugs', 'being', 'resold', 'on', 'the', 'streets.'], ['It', \"doesn't\", 'matter', 'that', 'the', 'doctor', 'genuinely', 'believed', 'that', 'the', 'patient', 'needed', 'the', 'drugs', 'and', 'was', 'not', 'abusing', 'them.'], ['It', \"doesn't\", 'matter', 'that', 'the', 'patient', 'was', 'in', 'pain.'], ['No,', 'doctors', 'are', 'now', 'going', 'to', 'prison', 'merely', 'for', 'prescribing', 'more', 'pain', 'pills', 'than', 'the', 'D.E.A.'], ['and', 'prosecutors', 'deem', 'a', \"''legitimate\", 'medical', \"purpose.''\"], ['These', 'drug', 'warriors', 'are', 'not', 'troubled', 'by', 'the', 'enormous', 'range', 'in', 'the', 'level', 'of', 'pain', 'medication', 'that', 'different', 'patients', 'need.'], ['They', \"don't\", 'even', 'seem', 'to', 'worry', 'much', 'about', 'the', 'potency', 'of', 'the', 'pills,', 'just', 'the', 'number.'], ['They', 'want', 'enough', 'pills', 'of', 'any', 'dosage', 'to', 'make', 'a', 'good', 'photo', 'at', 'a', 'press', 'conference.'], ['In', 'some', 'cases,', 'doctors', 'have', 'been', 'too', 'careless', 'or', 'gullible,', 'but', 'those', 'are', 'offenses', 'to', 'be', 'disciplined', 'by', 'state', 'medical', 'authorities,', 'not', 'criminal', 'courts.'], ['Tandy', 'claims', 'that', 'only', 'a', 'few', 'corrupt', 'doctors', 'have', 'anything', 'to', 'fear', 'from', 'the', 'D.E.A.'], ['She', 'responded', 'to', 'a', 'column', 'of', 'mine', 'last', 'year', 'by', 'saying', 'that', 'her', 'agency', 'had', 'investigated', 'only', '0.1', 'percent', 'of', 'the', '600,000', 'doctors', 'in', 'the', 'U.S.'], ['But', 'she', 'was', 'far', 'too', 'modest.'], ['Most', 'doctors,', 'after', 'all,', 'write', 'few', 'if', 'any', 'prescriptions', 'for', 'opioid', 'painkillers.'], ['The', 'doctors', 'who', 'matter', 'are', 'the', 'small', 'number', 'of', 'specialists', 'in', 'pain', 'treatment', 'who', 'prescribe', 'opioids.'], ['Ronald', 'Libby,', 'a', 'professor', 'of', 'political', 'science', 'at', 'the', 'University', 'of', 'North', 'Florida,', 'estimates', 'that', '17', 'percent', 'of', 'those', 'doctors', 'were', 'investigated', 'during', 'one', 'year', 'by', 'the', 'D.E.A.,', 'and', 'an', 'even', 'greater', 'number', 'of', 'others', 'were', 'investigated', 'by', 'local', 'and', 'state', 'authorities,', 'typically', 'in', 'concert', 'with', 'the', 'drug', 'agency.'], ['That', 'means', 'a', 'pain', 'specialist', 'might', 'have', 'a', 'one-in-three', 'chance', 'of', 'being', 'investigated', 'for', 'prescribing', 'opioids.'], ['Faced', 'with', 'those', 'odds,', 'doctors', 'are', 'understandably', 'afraid.'], ['As', 'noted', 'in', 'The', 'New', 'England', 'Journal', 'of', 'Medicine', 'this', 'month,', 'the', 'D.E.A.'], ['has', 'made', 'doctors', 'reluctant', 'to', 'give', 'opioids', 'to', 'desperately', 'ill', 'patients,', 'even', 'when', 'these', 'drugs', 'are', 'the', 'most', 'effective', 'pain', 'treatment.'], ['The', 'article', 'warned', 'that', 'a', 'victory', 'for', 'the', 'Bush', 'administration', 'in', 'the', 'Oregon', 'case,', 'besides', 'affecting', 'terminally', 'ill', 'patients', 'in', 'Oregon,', 'could', 'cause', 'doctors', 'across', 'the', 'country', 'to', \"''abandon\", 'patients', 'and', 'their', 'families', 'in', 'their', 'moment', 'of', 'greatest', \"need.''\"], ['The', 'Supreme', \"Court's\", 'decision', 'is', 'a', 'victory', 'for', 'patients', 'and', 'their', 'doctors', '--', 'including,', 'I', 'hope,', 'some', 'of', 'the', 'ones', 'in', 'prison', 'for', 'violating', 'the', 'federal', 'legal', 'theory', 'that', 'has', 'now', 'been', 'rejected', 'by', 'the', 'court.'], ['The', 'doctors', 'should', 'go', 'free,', 'and', 'Republicans', 'in', 'the', 'White', 'House', 'and', 'Congress', 'should', 'restrain', 'the', 'drug', 'warriors', 'who', 'locked', 'them', 'up.'], ['When', 'this', \"year's\", 'budget', 'is', 'drawn', 'up,', \"it's\", 'the', 'D.E.A.'], [\"'s\", 'turn', 'to', 'feel', 'pain.'], ['Op-Ed', 'Columnist', 'With', 'Friends', 'Like', 'These', 'WHY', 'have', 'the', 'Democratic', 'presidential', 'candidates', 'been', 'so', 'reluctant', 'to', 'attack', 'one', 'another?'], ['Maybe', 'because', 'they', 'have', 'been', 'too', 'busy', 'watching', 'their', 'backs.'], ['Treachery', 'has', 'always', 'been', 'part', 'of', 'politics,', 'but', 'this', 'seems', 'destined', 'to', 'be', 'remembered', 'as', 'the', 'Year', 'of', 'the', 'Rat.'], ['It', 'was', 'shocking', 'enough', 'when', 'Gerald', 'W.', 'McEntee,', 'the', 'president', 'of', 'the', 'American', 'Federation', 'of', 'State,', 'County', 'and', 'Municipal', 'Employees,', 'publicly', 'withdrew', 'his', 'endorsement', 'of', 'Howard', 'Dean', 'while', 'the', 'candidate', 'was', 'still', 'planning', 'a', 'last', 'stand', 'in', 'Wisconsin.'], ['Then,', 'after', 'Dr.', 'Dean', 'lost', 'Wisconsin', 'and', 'gracefully', 'left', 'the', 'race', 'on', 'Wednesday,', 'Mr.', 'McEntee', 'sent', 'his', 'version', 'of', 'condolences', 'the', 'next', 'day.'], ['In', 'lieu', 'of', 'flowers,', 'he', 'offered', 'a', 'public', 'testimonial', 'to', 'Dr.', 'Dean:', \"''I\", 'think', \"he's\", \"nuts.''\"], ['Of', 'course,', 'Mr.', 'McEntee', 'was', 'not', 'the', 'first.'], ['That', 'distinction', 'may', 'belong', 'to', 'Chris', 'Lehane,', 'who', 'after', 'advising', 'John', 'Kerry', 'last', 'year', 'went', 'on', 'to', 'attack', 'him', 'while', 'working', 'for', 'Gen.', 'Wesley', 'K.', 'Clark.'], ['But', 'at', 'least', 'he', 'was', 'advancing', 'the', 'cause', 'of', 'his', 'current', 'candidate.'], ['Steven', 'Grossman', 'was', 'still', 'chairman', 'of', 'the', 'Dean', 'campaign', 'on', 'Sunday,', 'just', 'before', 'the', 'Wisconsin', 'primary,', 'when', 'he', 'announced', 'he', 'would', 'be', 'switching', 'his', 'support', 'to', 'Mr.', 'Kerry', 'if', 'Dr.', 'Dean', 'lost', 'Tuesday.'], ['Aides', 'to', 'Mr.', 'Clark', 'helped', 'nudge', 'their', 'candidate', 'out', 'of', 'the', 'race', 'more', 'subtly', 'by', 'leaking', 'a', 'tip', 'that', 'the', 'campaign', 'would', 'be', 'folding.'], ['You', 'could', 'think', 'of', 'this', 'as', 'a', 'modern', 'version', 'of', 'the', 'old', 'vaudeville', 'approach', 'to', 'failing', 'acts,', 'with', 'the', 'leaks', 'serving', 'as', 'the', 'equivalent', 'of', 'the', 'hook', 'dragging', 'the', 'performers', 'off', 'stage.'], ['Or', 'you', 'could', 'use', 'a', 'Vietnam', 'metaphor,', 'as', 'John', 'J.', 'Pitney', 'Jr.', 'does', 'in', 'his', 'book', \"''The\", 'Art', 'of', 'Political', \"Warfare.''\"], [\"''Whereas\", 'soldiers', 'in', 'Vietnam', 'did', 'their', \"'fragging'\", 'with', 'hand', 'grenades,', 'bureaucrats', 'and', 'political', 'aides', 'can', 'do', 'it', 'with', 'leaks', 'to', 'the', \"press,''\", 'writes', 'Dr.', 'Pitney,', 'a', 'professor', 'of', 'government', 'at', 'Claremont', 'McKenna', 'College', 'in', 'California.'], ['After', 'watching', 'this', \"year's\", 'aides', 'in', 'action,', 'he', 'has', 'come', 'up', 'with', 'a', 'new', 'term', 'for', 'the', 'trend:', 'pre-emptive', 'surrender.'], [\"''It's\", 'a', 'bizarro', 'version', 'of', 'the', 'Bush', 'doctrine', 'of', \"pre-emption,''\", 'Dr.', 'Pitney', 'said.'], [\"''Waging\", 'political', 'warfare', 'is', 'hard', 'when', 'the', 'troops', 'behind', 'you', 'are', 'waving', 'white', 'flags.'], [\"It's\", 'as', 'if', \"you're\", 'General', 'Grant', 'at', 'Shiloh', 'and', 'you', 'notice', 'that', 'your', 'chief', 'lieutenants', 'are', 'practicing', 'their', 'Southern', \"accents.''\"], ['Candidate,', 'Heal', 'Thyself', 'IN', 'general,', 'the', 'presidential', 'candidates', 'favor', 'safe', 'and', 'healthy', 'working', 'conditions', 'for', 'Americans.'], ['Just', 'not', 'for', 'themselves', 'and', 'their', 'staffs.'], ['No', 'one', 'this', 'year', 'looks', 'quite', 'as', 'haggard', 'as', 'Bill', 'Clinton', 'did', 'in', '1992,', 'when', 'he', 'gained', '20', 'pounds', 'and', 'was', 'constantly', 'battling', 'colds', 'and', 'allergies,', 'but', 'they', 'have', 'had', 'their', 'travails.'], ['Mr.', 'Kerry', 'said', 'the', 'campaign', 'felt', 'like', 'one', 'long', 'exam', 'week', 'in', 'college', 'because', 'of', 'all', 'the', 'cold', 'pizza,', 'junk', 'food', 'and', 'all-nighters.'], ['John', 'Edwards', 'got', 'bronchitis', 'and', 'lost', 'his', 'voice.'], ['Dr.', 'Dean', 'lost', 'his', 'voice,', 'too,', 'and', 'not', 'simply', 'because', 'of', 'that', 'scream.'], ['On', 'Monday', 'evening,', 'as', 'Dr.', 'Dean', 'was', 'standing', 'in', 'the', 'Orpheum', 'Theater', 'in', 'Madison,', 'Wis.,', 'after', 'addressing', 'the', 'last', 'rally', 'before', 'the', 'primary,', 'he', 'was', 'asked', 'for', 'his', 'professional', 'medical', 'assessment', 'of', 'the', 'hazards', 'of', 'political', 'campaigning.'], [\"''Atrocious\", 'eating', \"habits,''\", 'he', 'said,', \"''which\", 'have', 'put', '12', 'pounds', 'on', 'me', 'in', 'two', \"years.''\"], ['This', 'would', 'not', 'come', 'as', 'a', 'surprise', 'to', 'anyone', 'who', 'traveled', 'on', 'his', 'Gulfstream', 'jet,', 'perpetually', 'equipped', 'with', 'bowls', 'of', 'peanut', \"M&M's\", 'and', 'trays', 'of', 'brownies', 'and', 'cookies.'], [\"''The\", 'lack', 'of', 'sleep', 'generally', \"doesn't\", 'have', 'that', 'much', 'of', 'an', 'effect', 'on', \"me,''\", 'he', 'said.'], [\"''I\", 'encourage', 'people', 'on', 'my', 'staff', 'to', 'take', 'time', 'off,', 'but', \"that's\", 'not', 'easy', 'to', 'do', 'on', 'a', 'campaign.'], ['We', 'could', 'run', 'a', 'reasonable', 'schedule,', 'but', 'I', \"don't.''\"], ['But', \"doesn't\", 'the', 'doctor', 'in', 'you', 'want', 'to', 'encourage', 'healthy', 'behavior?'], [\"''Yeah,\", 'but', 'the', 'workaholic', 'in', 'me', 'wants', 'to', 'drive', 'through', 'until', 'I', \"win.''\"], ['If', 'the', 'campaign', 'ends', 'tomorrow,', 'would', 'it', 'at', 'least', 'be', 'good', 'for', 'your', 'health?'], [\"''It's\", 'not', 'going', 'to', \"end,''\", 'he', 'said,', 'and', 'he', 'almost', 'seemed', 'to', 'believe', 'it.'], ['An', 'Arms', 'Race', 'Of', 'Oratory', 'IT', 'was', 'being', 'billed', 'as', 'the', 'most', 'important', 'speech', 'of', 'John', \"Edwards's\", 'life,', 'a', 'chance', 'to', 'celebrate', 'his', 'surprisingly', 'strong', 'second-place', 'finish', 'in', 'Wisconsin', 'and', 'reach', 'those', 'across', 'America', 'who', 'would', 'be', 'voting', 'Super', 'Tuesday.'], ['But', 'after', 'uttering', '10', 'sentences', 'Tuesday', 'night,', 'he', 'was', 'suddenly', 'abandoned', 'by', 'the', 'cable', 'networks,', 'who', 'switched', 'to', 'cover', 'the', 'start', 'of', 'John', \"Kerry's\", 'victory', 'speech.'], ['Did', 'Mr.', 'Kerry', 'deliberately', 'silence', 'his', 'silver-tongued', 'rival?'], [\"''We\", 'cannot', 'claim', 'that', 'kind', 'of', \"genius,''\", 'said', 'David', 'Wade,', 'Mr.', \"Kerry's\", 'spokesman,', 'who', 'blamed', 'election-night', 'confusion.'], ['But', 'however', 'it', 'happened,', 'it', 'set', 'a', 'tempting', 'precedent', 'for', 'future', 'election', 'nights.'], ['To', 'deprive', 'your', 'rival', 'of', 'free', 'national', 'television', 'exposure,', 'just', 'wait', 'for', 'him', 'to', 'go', 'first', 'and', 'then', 'upstage', 'him.'], ['In', 'crowded', 'races,', 'you', 'could', 'end', 'up', 'with', 'an', 'arms', 'race', 'mentality', 'leading', 'to', 'five', 'candidates', 'speaking', 'at', 'once,', 'a', 'loss', 'for', 'voters,', 'viewers', 'and', 'networks', 'eager', 'for', 'live', 'drama.'], ['No', 'one', 'can', 'force', 'the', 'candidates', 'to', 'stagger', 'their', 'speeches,', 'but', 'there', 'might', 'be', 'a', 'way', 'to', 'restore', 'some', 'order.'], ['Suppose', 'one', '(or', 'two', 'or', 'three)', 'of', 'the', 'networks', 'announced', 'before', 'Super', 'Tuesday', 'that', 'it', 'would', 'not', 'reward', 'upstagers.'], ['Once', 'a', 'candidate', 'began', 'speaking,', 'it', 'would', 'stick', 'with', 'him', 'for,', 'say,', 'five', 'minutes', '(or', 'until', 'he', 'became', 'boring).'], ['If', 'someone', 'else', 'came', 'on', 'in', 'that', 'time,', 'his', 'speech', 'would', 'be', 'taped', 'and', 'shown', 'afterwards.'], ['The', 'proposal', 'was', 'not', 'an', 'immediate', 'hit', 'with', 'the', 'networks.'], [\"''Obviously\", \"we'd\", 'like', 'to', 'avoid', 'making', 'a', 'choice', 'between', 'Kerry', 'and', \"Edwards,''\", 'said', 'Tom', 'Hannon,', 'the', 'political', 'director', 'of', 'CNN.'], [\"''But\", \"I'm\", 'not', 'sure', \"we're\", 'ready', 'to', 'set', 'up', 'ground', 'rules', 'for', 'the', \"candidates.''\"], ['Tammy', 'Haddad,', 'the', 'executive', 'producer', 'of', \"''Hardball''\", 'on', 'NBC,', 'did', 'not', 'dismiss', 'the', 'idea', 'out', 'of', 'hand', 'but', 'warned', 'it', 'could', 'be', 'stifling.'], [\"''Part\", 'of', 'the', 'reason', 'people', 'watch', 'election-night', 'coverage', 'is', 'the', \"messiness,''\", 'she', 'said.'], ['Mr.', 'Wade,', 'the', 'Kerry', 'spokesman,', 'diplomatically', 'called', 'it', \"''an\", 'interesting', \"idea.''\"], ['The', 'most', 'enthusiasm', 'came', 'from', 'Jennifer', 'Palmieri,', 'Mr.', \"Edwards's\", 'spokeswoman.'], [\"''That\", 'sounds', 'like', 'a', 'very', 'fair', 'way', 'to', 'do', \"it,''\", 'she', 'said,', 'looking', 'ahead', 'to', 'Super', 'Tuesday.'], [\"''I\", 'would', 'never', 'start', 'with', 'the', 'assumption', 'that', 'the', 'Kerry', 'campaign', 'would', 'be', 'snarky', 'next', 'time,', 'but', 'it', 'would', 'be', 'nice', 'to', 'have', 'a', 'policy', 'so', 'that', \"there's\", 'no', 'incentive', 'for', 'anyone', 'to', 'game', 'the', \"system.''\"], ['THE', '2004', 'CAMPAIGN', 'If', 'you', 'were', 'a', 'Democrat', 'watching', 'Coretta', 'Scott', \"King's\", 'funeral,', 'you', 'could', 'congratulate', 'yourself', 'on', 'the', \"party's\", 'role', 'in', 'past', 'civil', 'rights', 'struggles.'], ['But', 'if', 'you', 'saw', \"what's\", 'been', 'on', 'television', 'in', 'Milwaukee', 'in', 'the', 'past', 'month,', \"you'd\", 'wonder', \"what's\", 'become', 'of', 'your', 'party.'], ['Gov.'], ['Jim', 'Doyle,', 'a', 'Democrat,', 'looks', 'like', 'public', 'enemy', 'No.'], ['1', 'for', 'African-American', 'schoolchildren.'], [\"''He's\", 'throwing', 'away', 'my', \"dream,''\", 'one', 'Milwaukee', 'student', 'says', 'in', 'a', 'TV', 'commercial', 'supporting', 'the', \"city's\", 'school', 'voucher', 'program', 'for', 'low-income', 'families.'], ['Another', 'commercial', 'shows', 'a', 'black', 'father', 'on', 'the', 'verge', 'of', 'tears', 'saying:', \"''School\", 'choice', 'is', 'good', 'enough', 'for', 'the', \"governor's\", 'family.'], ['I', 'ought', 'to', 'be', 'able', 'to', 'have', 'it,', \"too.''\"], ['Radio', 'audiences', 'have', 'been', 'hearing', 'an', 'ad', 'calling', 'the', 'voucher', 'battle', \"''one\", 'of', 'the', 'greatest', 'social', 'justice', 'issues', 'we', 'have', 'in', 'the', \"country.''\"], ['The', 'speaker', 'is', 'Ken', 'Johnson,', 'an', 'African-American', 'who', 'leads', \"Milwaukee's\", 'school', 'board.'], ['You', 'read', 'that', 'correctly:', 'the', 'head', 'of', 'the', 'public', 'school', 'board', 'supports', 'giving', 'students', 'in', 'his', 'system', 'a', 'chance', 'to', 'escape', 'public', 'schools.'], ['That', 'would', 'be', 'unthinkable', 'in', 'most', 'cities,', 'but', \"Milwaukee's\", 'voucher', 'program', 'has', 'been', 'so', 'successful', 'over', 'the', 'past', '15', 'years', 'that', \"it's\", 'won', 'a', 'wide', 'array', 'of', 'converts', '--', 'except', 'among', 'the', 'Democrats', 'terrified', 'of', \"teachers'\", 'unions.'], ['The', 'governor', 'repeatedly', 'vetoed', 'bills', 'passed', 'by', 'Republican', 'legislators', 'who', 'were', 'trying', 'to', 'head', 'off', 'a', 'problem', 'that', 'became', 'official', 'yesterday:', 'there', \"aren't\", 'enough', 'vouchers', 'for', 'all', 'the', 'students', 'who', 'want', 'them.'], ['The', 'original', 'law', 'limited', 'the', 'number', 'of', 'vouchers', 'to', '15', 'percent', 'of', 'the', \"city's\", 'public', 'school', 'enrollment', '--', 'which', 'works', 'out', 'to', 'almost', '15,000', 'vouchers', '--', 'but', 'the', 'program', 'has', 'grown', 'beyond', 'that', 'limit.'], ['So', 'the', 'state', 'announced', 'a', 'rationing', 'plan', 'yesterday', 'that', 'would', 'deny', 'vouchers', 'next', 'year', 'to', 'thousands', 'of', 'students,', 'many', 'of', 'them', 'already', 'using', 'vouchers', 'to', 'attend', 'private', 'schools.'], ['These', 'students', 'and', 'their', 'parents', 'have', 'been', 'appearing', 'in', 'television', 'commercials,', 'paid', 'for', 'by', 'a', 'pro-voucher', 'group,', 'and', 'showing', 'up', 'at', 'the', 'State', 'Capitol', 'carrying', 'signs', 'reading,', \"''Governor\", 'Doyle,', \"Don't\", 'Cap', 'My', \"Future.''\"], ['The', 'pressure', 'has', 'worked.'], ['The', 'governor', 'and', 'the', 'Republicans', 'have', 'negotiated', 'a', 'last-minute', 'deal', '--', 'expected', 'to', 'be', 'enacted', 'shortly', '--', 'to', 'stave', 'off', 'the', 'rationing', 'plan', 'by', 'allotting', 'extra', 'vouchers.'], ['That', 'would', 'spare', 'the', 'Democrats', 'from', 'the', 'immediate', 'prospect', 'of', 'kicking', 'black', 'children', 'out', 'of', 'private', 'schools.'], ['But', 'it', 'still', 'leaves', 'the', 'party', 'in', 'Wisconsin', 'and', 'elsewhere', 'with', 'long-term', 'problems.'], ['How', 'long', 'will', 'blacks', 'vote', 'for', 'a', 'party', 'that', 'opposes', 'the', 'voucher', 'programs', 'they', 'strongly', 'favor?'], ['And', 'how', 'can', 'Democratic', 'leaders', 'keep', 'preaching', 'their', 'devotion', 'to', 'public', 'schools', 'while', 'sending', 'their', 'own', 'children', 'to', 'private', 'schools,', 'as', 'Governor', 'Doyle', 'does?'], [\"He's\", 'what', 'I', 'call', 'a', 'Lypsy,', 'an', 'acronym', 'for', 'Let', 'Your', 'People', 'Stay.'], ['Doyle', 'told', 'me', 'that', 'he', \"wasn't\", 'bothered', 'by', 'the', 'personal', 'attacks,', 'and', 'that', 'he', 'had', 'compromised', 'only', 'to', 'avoid', 'disrupting', \"students'\", 'education.'], ['He', 'said', 'he', 'was', 'still', 'philosophically', 'opposed', 'to', 'vouchers', 'and', \"didn't\", 'fear', 'reprisals', 'from', 'black', 'voters.'], [\"''I\", \"don't\", 'think', 'this', 'is', 'an', 'issue', 'that', 'moves', \"voters,''\", 'he', 'said,', 'arguing', 'that', 'blacks', 'distrust', 'Republicans', 'on', 'too', 'many', 'other', 'issues.'], ['He', 'may', 'be', 'right', '--', 'for', 'now.'], ['Howard', 'Fuller,', 'a', 'prominent', 'advocate', 'for', 'vouchers', 'as', 'well', 'as', 'a', 'former', 'superintendent', 'of', \"Milwaukee's\", 'public', 'schools,', 'told', 'me', 'he', \"hadn't\", 'seen', 'the', 'popularity', 'of', 'the', 'voucher', 'program', 'translate', 'into', 'much', 'affection', 'for', 'Republicans', 'among', 'his', 'fellow', 'African-Americans,', 'especially', 'his', 'civil', 'rights', 'comrades.'], [\"''Those\", 'people', 'you', 'saw', 'at', 'Coretta', 'Scott', \"King's\", 'funeral', 'are', 'not', 'going', 'to', \"change,''\", 'he', 'said.'], [\"''My\", 'generation', 'pushed', 'for', 'social', 'change', 'through', 'government', 'solutions,', 'but', 'younger', 'blacks', 'are', 'much', 'more', 'interested', 'in', 'private', 'initiatives.'], ['They', 'understand', 'that', 'the', 'public', 'school', 'system', 'cannot', 'by', 'itself', 'be', 'the', 'solution', 'to', 'educating', 'low-income', \"children.''\"], ['One', 'of', 'those', 'younger', 'blacks', 'is', 'Jason', 'Fields,', 'a', 'first-term', 'state', 'legislator', 'who', 'has', 'defied', 'his', 'fellow', 'Democrats', 'by', 'supporting', 'vouchers.'], [\"''If\", 'the', 'Democratic', 'Party', 'is', 'supposed', 'to', 'be', 'the', 'party', 'of', 'the', 'little', 'guy,', 'where', 'do', 'we', 'get', 'off', 'opposing', 'a', 'chance', 'to', 'help', 'those', 'with', 'the', 'least', 'of', \"all?''\"], ['he', 'asked.'], ['The', 'answer', \"he's\", 'heard', 'from', 'his', 'party', 'is', 'that', 'supporting', 'vouchers', 'can', 'end', 'your', 'career', 'if', 'the', \"teachers'\", 'union', 'supports', 'a', 'candidate', 'against', 'you', 'in', 'the', 'Democratic', 'primary.'], ['But', 'Fields,', 'who', 'represents', 'a', 'predominantly', 'black', 'district', 'in', 'Milwaukee,', 'is', 'that', 'rare', 'Democrat', 'who', 'will', 'stand', 'up', 'for', 'his', 'constituents', 'against', 'the', 'union.'], [\"''If\", 'they', 'run', 'someone', 'against', 'me,', 'so', 'be', \"it,''\", 'Fields', 'said.'], [\"''I'm\", 'willing', 'to', 'leave', 'it', 'up', 'to', 'the', 'voters', 'to', 'decide', 'who', 'really', 'cares', 'about', 'African-Americans,', 'and', \"who's\", 'just', 'spitting', 'out', \"rhetoric.''\"], ['Op-Ed', 'Columnist', 'All', 'Tax', 'Talk,', 'No', 'Action?'], ['HOW', 'many', 'Democratic', 'tax', 'plans', 'can', 'dance', 'on', 'the', 'head', 'of', 'a', 'pin?'], ['While', 'the', 'presidential', 'candidates', 'are', 'out', 'in', 'Iowa', 'passionately', 'debating', 'precisely', 'which', 'parts', 'of', 'the', 'Bush', 'tax', 'cuts', 'they', 'will', 'repeal,', 'back', 'in', 'Washington', 'some', 'observers', 'consider', 'it', 'an', 'oddly', 'hypothetical', 'exercise.'], ['Virtually', 'no', 'one', 'on', 'Capitol', 'Hill', 'expects', 'the', 'Democrats', 'to', 'win', 'control', 'of', 'Congress', 'in', 'November.'], ['So', 'how', 'much', 'chance', 'would', 'any', 'Democratic', 'president', 'have', 'of', 'persuading', 'a', 'Republican', 'majority', 'in', 'either', 'chamber', 'to', 'increase', 'taxes', 'next', 'year?'], [\"''The\", 'answer', 'is', \"zero,''\", 'said', 'Senator', 'Charles', 'E.', 'Grassley,', 'the', 'Iowa', 'Republican', 'who', 'is', 'chairman', 'of', 'the', 'finance', 'committee.'], [\"''Only\", '3', 'or', '4', 'of', 'the', '10', 'Democrats', 'on', 'my', 'committee', 'would', 'vote', 'to', 'get', 'rid', 'of', 'the', 'tax', 'cuts.'], ['None', 'of', 'the', 'Republicans', \"would.''\"], [\"''It's\", 'about', 'as', 'likely', 'as', 'Hillary', 'Clinton', 'becoming', 'a', \"Republican,''\", 'replied', 'John', 'Feehery,', 'a', 'spokesman', 'for', 'Speaker', 'J.', 'Dennis', 'Hastert', 'of', 'Illinois.'], [\"''No\", \"chance,''\", 'said', 'Grover', 'G.', 'Norquist,', 'a', 'leading', 'Republican', 'strategist', 'and', 'the', 'president', 'of', 'Americans', 'for', 'Tax', 'Reform,', 'which', 'has', 'secured', 'pledges', 'from', 'nearly', 'half', 'of', 'the', 'members', 'of', 'Congress', 'not', 'to', 'raise', 'taxes.'], ['Like', 'other', 'conservatives,', 'Mr.', 'Norquist', 'predicts', 'that', 'Democratic', 'tax', 'policy', 'will', 'play', 'badly', 'in', 'the', 'campaign,', 'but', 'he', 'still', 'does', 'not', 'forecast', 'an', 'easy', 'Republican', 'victory', 'in', 'November.'], ['No', 'matter', 'which', 'Democrat', 'is', 'nominated,', 'he', 'said,', 'the', 'candidate', 'can', 'benefit', 'from', 'other', 'pocketbook', 'issues', 'that', 'a', 'Democratic', 'president', 'could', 'actually', 'do', 'something', 'about:', 'trade', 'policy,', 'tort', 'reform', 'and', 'privatization', 'of', 'federal', 'jobs.'], [\"''The\", 'Democrats', 'could', 'win', 'because', 'their', 'base', 'has', 'more', 'at', 'stake', 'economically', 'than', 'the', 'Republican', \"base,''\", 'Mr.', 'Norquist', 'said.'], [\"''The\", 'unions', 'know', 'that', 'four', 'more', 'years', 'of', 'Bush', 'will', 'mean', 'a', 'huge', 'number', 'of', 'union', 'jobs', 'lost', 'to', 'new', 'free-trade', 'agreements', 'and', 'the', 'outsourcing', 'of', 'the', 'federal', 'work', 'force.'], ['Even', 'modest', 'tort', 'reform', 'could', 'cost', 'the', 'trial', 'lawyers', 'tens', 'of', 'billions', 'of', 'dollars.'], [\"It's\", 'perfectly', 'reasonable', 'to', 'think', 'that', 'Democratic', 'groups', 'will', 'spend', '$400', 'million', 'on', 'this', 'election.'], ['If', 'their', 'team', \"doesn't\", 'win,', 'they', \"don't\", \"eat.''\"], ['Ye', 'Sushi-Eating', 'Body', 'Piercers!'], ['IOWANS', 'have', 'just', 'discovered', 'your', 'role', 'in', 'the', 'vast', 'left-wing', 'conspiracy.'], ['They', 'even', 'know', 'about', 'your', 'passions', 'for', 'eating', 'sushi', 'and', 'sticking', 'pins', 'through', 'your', 'flesh.'], ['The', 'Club', 'for', 'Growth,', 'a', 'conservative', 'group,', 'has', 'put', 'you', 'in', 'a', '$100,000', 'advertising', 'campaign', 'in', 'Iowa.'], ['The', \"group's\", 'attack', 'advertisement,', 'which', 'made', 'its', 'debut', 'on', 'Des', 'Moines', 'television', 'on', 'Wednesday,', 'shows', 'a', 'husband', 'and', 'wife', 'talking', 'about', 'Howard', \"Dean's\", 'proposal', 'to', 'repeal', 'the', 'Bush', 'tax', 'cuts.'], [\"''Howard\", \"Dean,''\", 'the', 'husband', 'says,', \"''should\", 'take', 'his', 'tax-hiking,', 'government-expanding,', 'latte-drinking,', 'sushi-eating,', 'Volvo-driving,', \"New-York-Times-reading''\", '--', 'at', 'which', 'point', 'the', 'wife', 'interrupts', 'to', 'finish', 'the', 'sentence', '--', \"''body-piercing,\", 'Hollywood-loving,', 'left-wing', 'freak', 'show', 'back', 'to', 'Vermont,', 'where', 'it', \"belongs.''\"], ['Could', 'this', 'really', 'be', 'you,', 'gentle', 'reader?'], ['Given', 'that', 'about', 'half', 'of', 'the', \"Times's\", 'circulation', 'is', 'in', 'the', 'New', 'York', 'metropolitan', 'area,', 'a', 'heavily', 'Democratic', 'region,', 'it', 'may', 'be', 'reasonable', 'to', 'guess', 'that', 'a', 'majority', 'of', 'readers', 'vote', 'Democratic.'], ['But', 'Catherine', 'J.', 'Mathis,', 'a', 'spokeswoman', 'for', 'The', 'Times,', 'said', 'the', 'newspaper', 'itself', 'did', 'not', 'know', 'the', 'political', 'affiliation', 'of', 'its', 'readers', '--', 'much', 'less', 'their', 'preferences', 'in', 'coffee', 'and', 'Japanese', 'food.'], ['Stephen', 'Moore,', 'the', 'president', 'of', 'the', 'Club', 'for', 'Growth,', 'said', 'the', 'commercial', 'was', 'not', 'based', 'on', 'market', 'research', 'about', 'Times', 'readers.'], ['In', 'fact,', 'the', 'original', 'script', 'had', \"''NPR-listening''\", 'instead,', 'he', 'said,', 'but', 'he', 'changed', 'it', 'to', 'Times-reading', 'to', 'appeal', 'to', 'Iowans', 'angered', 'by', 'a', 'Times', 'editorial', 'suggesting', 'the', 'presidential', 'campaign', 'would', 'improve', 'if', 'candidates', 'skipped', 'the', \"Iowa's\", 'caucuses.'], [\"''We're\", 'trying', 'to', 'present', 'an', 'image', 'of', 'Northeast', \"liberals,''\", 'Mr.', 'Moore', 'said.'], ['But', 'as', 'a', 'resident', 'of', 'Washington,', \"doesn't\", 'he', 'fit', 'some', 'of', 'the', 'stereotypes', 'himself?'], ['What', 'about', 'sushi?'], [\"''I\", \"don't\", 'eat', \"sushi,''\", 'Mr.', 'Moore', 'said.'], [\"''I\", \"don't\", 'drive', 'a', 'Volvo.'], ['I', \"don't\", 'read', 'The', 'Times', '--', 'except', 'for', 'the', 'Political', 'Points', 'column,', 'of', 'course.'], ['I', \"don't\", 'drink', 'latte.'], ['I', 'do', 'have', 'my', 'navel', 'pierced,', \"though.''\"], ['Labels', \"'n'\", 'Labels', 'For', 'Red', \"'n'\", 'Blue', 'FOR', 'a', 'more', 'scientific', 'breakdown', 'of', \"America's\", 'electoral', 'divide,', 'you', 'can', 'choose', 'from', 'two', 'new', 'surveys', 'identifying', 'yet', 'more', 'groups', 'for', 'candidates', 'to', 'worry', 'about.'], ['Republicans', 'can', 'now', 'break', 'their', 'base', 'into', 'categories', 'like', 'Country', 'Folk', '(whites', 'outside', 'metropolitan', 'areas),', 'The', 'Faithful', '(born-again', 'Christian', 'fundamentalists', 'and', 'other', 'Protestants)', 'and', 'Privileged', 'Men', '(white', 'college', 'graduates).'], ['Those', 'labels', 'come', 'from', \"''The\", 'Two', \"Americas,''\", 'a', 'new', 'book', 'by', 'Stanley', 'B.', 'Greenberg,', 'the', 'pollster', 'who', 'guided', 'Bill', 'Clinton.'], ['Mr.', 'Greenberg', 'breaks', 'the', 'Democratic', 'base', 'into', 'categories', 'like', 'Secular', 'Warriors', '(people', 'who', 'rarely', 'attend', 'church', 'and', 'do', 'not', 'own', 'a', 'gun)', 'and', 'Cosmopolitan', 'States', '(New', 'England,', 'New', 'York,', 'New', 'Jersey', 'and', 'California).'], ['While', 'Super-Educated', 'Women', '(those', 'with', 'postgraduate', 'degrees)', 'are', 'reliable', 'Democrats,', 'men', 'with', 'postgraduate', 'degrees', 'are', 'more', 'fickle.'], ['Other', 'groups', 'up', 'for', 'grabs', 'include', 'Devout', 'Catholics', '(white', 'non-Hispanic', 'Catholics', 'who', 'attend', 'Mass', 'weekly),', 'Aging', 'Blues', '(men', 'or', 'women', 'over', '50', 'without', 'college', 'degrees)', 'and', 'the', 'Young', 'and', 'the', 'Restless', '(whites', 'under', '30).'], ['In', 'a', 'separate', 'poll', 'analyzing', 'the', 'blue-red', 'divide,', 'Zogby', 'International', 'has', 'identified', 'two', 'other', 'groups', 'that', 'vote', 'Republican:', 'people', 'who', 'attend', 'high', 'school', 'sports', 'events', 'and', 'people', 'who', 'attend', 'Little', 'League', 'games.'], ['This', 'was', 'called', 'the', 'division', 'between', 'Hometown', 'Values', 'and', 'Hollywood', 'Values', 'by', 'The', \"O'Leary\", 'Report,', 'the', 'conservative', 'publication', 'that', 'conducted', 'the', 'poll', 'along', 'with', 'Zogby', 'and', 'Southern', 'Methodist', 'University.'], ['The', 'poll', 'also', 'found', 'that', 'groups', 'called', 'the', 'Defenders', '(people', 'whose', 'family', 'includes', 'a', 'current', 'or', 'retired', 'member', 'of', 'the', 'military)', 'and', 'Wealth-Builders', '(those', 'with', 'stocks', 'or', '401(k)', 'plans)', 'are', 'significantly', 'more', 'likely', 'to', 'vote', 'Republican.'], ['Like', 'Mr.', \"Greenberg's\", 'poll,', 'the', 'Zogby', 'survey', 'found', 'that', 'Democrats', 'go', 'to', 'church', 'a', 'lot', 'less', 'often', 'than', 'Republicans', 'do.'], ['If', 'you', 'believe', 'that', 'new', 'commercial', 'in', 'Iowa,', 'you', 'might', 'wonder', 'if', 'this', 'is', 'because', 'Democrats', 'are', 'too', 'busy', 'on', 'Sunday', 'morning', 'reading', 'the', 'paper.'], ['But', 'that', 'theory', 'has', 'not', 'yet', 'been', 'investigated.'], ['Purple', 'Heart', 'Award', 'Some', 'might', 'have', 'relished', 'the', 'chance', 'to', 'snipe', 'at', 'a', 'rival,', 'but', 'not', 'Steve', 'Murphy,', 'the', 'manager', 'of', 'Richard', 'A.', \"Gephardt's\", 'campaign.'], [\"''We\", 'have', 'been', 'friends', 'a', 'long', 'time', 'and', 'it', 'is', 'with', 'a', 'heavy', 'heart', 'that', 'I', 'write', 'this', \"letter,''\", 'he', 'began', 'a', 'missive', 'on', 'Thursday', 'to', 'Joe', 'Trippi,', 'the', 'manager', 'of', 'the', 'Dean', 'campaign,', 'that', 'accused', 'him', 'of', 'trying', 'to', 'sneak', 'out-of-staters', 'into', 'the', 'Iowa', 'caucuses.'], ['Mr.', 'Trippi', 'promptly', 'replied', 'with', 'a', 'letter', 'of', 'rebuttal', 'telling', 'how', 'saddened', 'he', 'was', 'by', 'the', \"''sleazy\", \"tactics''\", 'of', 'Mr.', 'Murphy,', 'and', 'concluding', 'that', \"''it\", 'is', 'with', 'a', 'particularly', 'heavy', 'heart', 'that', 'I', 'send', 'this', \"letter.''\"], ['Whose', 'heart', 'tips', 'the', 'scales?'], ['Let', 'them', 'sadly', 'share', 'the', 'honor.'], ['THE', '2004', 'CAMPAIGN', 'Best', 'and', 'Worst', 'Of', 'the', 'Primaries', 'At', 'the', 'risk', 'of', 'disappointing', 'Representative', 'Dennis', 'J.', 'Kucinich', 'and', 'the', 'Rev.'], ['Al', 'Sharpton,', \"we're\", 'going', 'to', 'assume', 'that', 'the', 'peak', 'of', 'the', 'Democratic', \"Party's\", 'primary', 'season', 'is', 'behind', 'us.'], ['So', \"let's\", 'present', 'the', 'Primary', 'Honors.'], ['WORST', 'PHOTO', 'OP', '--', 'Was', 'it', 'when', 'Howard', 'Dean', 'put', 'on', 'a', 'cheesehead', 'in', 'Wisconsin,', 'or', 'the', 'moment', 'he', 'indulged', 'some', 'strange', 'Iowa', 'tradition', 'by', 'allowing', 'a', 'milkshake', 'to', 'be', 'poured', 'into', 'a', 'glass', 'balanced', 'on', 'his', 'head?'], ['Call', 'it', 'a', 'tie.'], ['Either', 'way,', 'the', 'political', 'lesson', 'is', 'clear:', 'Avoid', 'dairy', 'products.'], ['BEST', 'PHOTO', 'OP', '--', 'Senator', 'John', \"Kerry's\", 'reunion', 'in', 'Iowa', 'with', 'a', 'veteran', 'who', 'credited', 'him', 'for', 'saving', 'his', 'life', 'in', 'Vietnam', 'was', 'the', 'emotional', 'high', 'point', 'of', 'the', 'Kerry', 'primary', 'campaign.'], ['But', 'there', 'was', 'one', 'even', 'more', 'valuable', 'photo', 'opportunity', 'generously', 'provided', 'by', 'the', 'White', 'House', 'advance', 'team.'], ['To', 'rouse', 'an', 'audience,', 'a', 'Democratic', 'candidate', 'had', 'merely', 'to', 'mention', 'the', 'scene', 'of', 'Mr.', 'Bush', \"''playing\", \"dress-up''\", 'while', \"''prancing''\", 'on', 'that', 'aircraft', 'carrier', 'with', 'the', \"''Mission\", \"Accomplished''\", 'banner.'], ['WORST', 'SOUND', 'BITE', '--', 'Dr.', 'Dean', 'took', 'an', 'early', 'lead', 'in', 'this', 'race', 'and', 'never', 'gave', 'it', 'up.'], ['First,', 'there', 'was', 'the', 'line', 'about', 'pickups', 'with', 'Confederate', 'flags,', 'then', 'the', 'announcement', 'that', 'America', 'was', 'no', 'safer', 'after', 'Saddam', \"Hussein's\", 'capture.'], ['The', 'award', 'seemed', 'assured', 'at', 'a', 'town', 'hall', 'meeting', 'when', 'he', 'told', 'a', '67-year-old', 'Iowan:', \"''You\", 'sit', 'down.'], [\"You've\", 'had', 'your', 'say,', 'and', 'now', \"I'm\", 'going', 'to', 'have', 'my', \"say.''\"], ['But', 'then', 'came', 'the', 'Scream,', 'the', 'standard', 'against', 'which', 'all', 'bad', 'sound', 'bites', 'will', 'henceforth', 'be', 'measured.'], ['BEST', 'SOUND', 'BITE', '--', 'Another', 'gift', 'from', 'Mr.', 'Bush.'], ['Even', 'at', 'the', 'most', 'lackluster', 'rally,', 'Mr.', 'Kerry', 'could', 'count', 'on', 'the', 'crowd', 'chanting', 'along', 'when', 'he', 'used', 'the', \"president's\", 'own', 'words', 'against', 'him:', \"''Bring\", 'it', \"on!''\"], ['WORST', 'QUESTION', '--', 'John', 'Edwards', 'gave', 'the', 'same', 'boring', 'answer', 'at', 'every', 'stop,', 'but', 'reporters', 'never', 'stopped', 'asking', 'it', 'anyway:', \"''Are\", 'you', 'running', 'for', 'vice', \"president?''\"], ['BEST', 'QUESTION', '--', 'When', 'James', 'P.', 'Hoffa,', 'the', 'president', 'of', 'the', 'Teamsters', 'union,', 'appeared', 'on', \"MSNBC's\", \"''Hardball''\", 'to', 'explain', 'his', 'endorsement', 'of', 'Mr.', 'Kerry,', 'he', 'said', 'he', 'was', 'not', 'troubled', 'by', 'Mr.', \"Kerry's\", 'opposition', 'to', 'drilling', 'for', 'oil', 'in', 'the', 'Arctic', 'National', 'Wildlife', 'Refuge.'], ['Although', 'the', 'Teamsters', 'had', 'wanted', 'those', 'drilling', 'jobs', 'in', 'Alaska,', 'Mr.', 'Hoffa', 'said', 'he', 'had', 'been', 'assured', 'there', 'would', 'be', 'more', 'jobs', 'created', 'by', 'other', 'drilling', 'projects', 'around', 'the', 'United', 'States.'], ['He', 'quoted', 'Mr.', 'Kerry', 'telling', 'him,', \"''We're\", 'going', 'to', 'drill', 'like', 'never', \"before.''\"], ['What', 'could', 'possibly', 'have', 'caused', 'a', 'fervent', 'environmentalist', 'like', 'Mr.', 'Kerry', 'to', 'promise', 'more', 'drilling', 'than', 'the', 'Bush', 'administration', 'allows', 'now?'], ['Chris', 'Matthews,', 'the', 'amused', 'host,', 'promptly', 'raised', 'one', 'theory.'], [\"''What\", 'position', 'was', 'he', 'in', 'when', 'he', 'made', 'all', 'these', \"promises?''\"], ['Mr.', 'Matthews', 'asked', 'the', 'Teamsters', 'leader.'], ['Mr.', 'Hoffa,', 'unfortunately,', 'did', 'not', 'reply.'], ['WORST', 'ANSWER', '--', 'Before', 'he', 'entered', 'the', 'race', 'in', 'September,', 'political', 'veterans', 'advised', 'Gen.', 'Wesley', 'K.', 'Clark', 'to', 'practice', 'every', 'day', 'answering', 'a', 'barrage', 'of', 'questions', 'from', 'aides', 'pretending', 'to', 'be', 'reporters.'], ['But', 'the', 'day', 'after', 'he', 'announced', 'his', 'candidacy,', 'he', 'was', 'stumped', 'when', 'a', 'reporter', 'on', 'his', 'plane', 'asked', 'the', 'most', 'obvious', 'question:', 'Would', 'he', 'have', 'voted', 'in', 'Congress', 'to', 'authorize', 'the', 'Iraq', 'war?'], ['First,', 'General', 'Clark', 'said', 'he', 'probably', 'would', 'have.'], ['Then', 'he', 'said', 'he', \"wouldn't\", 'have.'], ['Then', 'he', 'looked', 'to', 'the', 'front', 'of', 'the', 'plane,', 'where', 'his', 'press', 'secretary,', 'Mary', 'Jacoby,', 'was', 'sitting,', 'and', 'came', 'up', 'with', 'the', 'answer', 'that', 'probably', 'expressed', 'his', 'true', 'inner', 'feelings:', \"''Mary,\", \"help!''\"], ['BEST', 'ANSWER', '--', 'It', 'came', 'last', 'Sunday', 'in', 'response', 'to', 'the', 'trickiest', 'question', 'posed', 'to', 'the', 'Democrats', 'during', 'their', 'debates:', 'Is', 'God', 'on', \"America's\", 'side', 'in', 'the', 'war', 'against', 'terror?'], ['The', 'first', 'respondent,', 'Mr.', 'Kerry,', 'started', 'out', 'awkwardly', '--', \"''Well,\", 'God', 'will,', 'look,', 'I', 'think,', 'I', 'believe', 'in', \"God''\", '--', 'and', 'went', 'on', 'to', 'dodge', 'it.'], ['Then', 'it', 'was', 'John', \"Edwards's\", 'turn.'], [\"''Well,\", \"there's\", 'a', 'wonderful', 'story', 'about', 'Abraham', 'Lincoln', 'during', 'the', 'middle', 'of', 'the', 'Civil', \"War,''\", 'Mr.', 'Edwards', 'said,', 'going', 'on', 'to', 'tell', 'about', 'a', 'group', 'of', 'leaders', 'who', 'asked', 'Lincoln', 'to', 'join', 'them', 'in', 'praying', 'that', 'God', 'was', 'on', 'the', \"Union's\", 'side.'], [\"''Abraham\", \"Lincoln's\", 'response', 'was,', \"'I\", \"won't\", 'join', 'you', 'in', 'that', 'prayer,', 'but', \"I'll\", 'join', 'you', 'in', 'a', 'prayer', 'that', \"we're\", 'on', \"God's\", \"side.'\"], [\"''\", \"It's\", 'hard', 'to', 'recall', 'the', 'last', 'presidential', 'debate', 'featuring', 'such', 'a', 'perfect', 'ad-lib,', 'although', 'other', 'politicians', '(or', 'at', 'least', 'their', 'speechwriters)', 'have', 'previously', 'borrowed', \"Lincoln's\", 'line.'], ['President', 'George', 'Bush', 'quoted', 'it', 'in', 'a', '1991', 'speech', 'to', 'Christian', 'educators.'], ['In', '1988,', 'President', 'Ronald', 'Reagan', 'told', 'of', 'a', 'rally', 'at', 'Madison', 'Square', 'Garden', 'during', 'World', 'War', 'II', 'at', 'which', 'various', 'celebrities', 'proclaimed', 'God', 'to', 'be', 'on', \"America's\", 'side,', 'whereupon', 'the', 'boxer', 'Joe', 'Louis', 'proclaimed', 'that', 'America', 'would', 'win', 'because', 'it', 'was', 'on', \"God's\", 'side.'], [\"''There\", 'was', 'just', 'a', 'hushed', 'moment', 'of', \"silence,''\", 'Mr.', 'Reagan', 'said,', \"''and\", 'then', 'that', 'crowd', 'came', 'to', 'their', 'feet', 'with', 'just', 'about', 'the', 'most', 'heartfelt', 'applause', 'and', 'ovation', 'that', 'anyone', 'has', 'ever', 'heard.'], ['The', 'master', 'of', 'ceremonies', 'was', 'the', 'comedian', 'George', 'Jessel,', 'and', 'George', 'said,', \"'Joe,\", 'you', 'have', 'just', 'laid', 'a', 'rose', 'on', 'Abraham', \"Lincoln's\", \"grave.'\"], [\"''\", 'He', 'would', 'have', 'been', 'impressed', 'with', 'Mr.', 'Edwards,', 'too.'], ['Political', 'Points', 'Correction:', 'March', '20,', '2004,', 'Saturday', 'A', 'report', 'in', 'the', 'Political', 'Points', 'column', 'on', 'March', '7', 'about', 'a', 'response', 'by', 'Senator', 'John', 'Edwards', 'during', 'a', 'presidential', 'debate', 'incorporated', 'an', 'anecdote', 'in', 'which', 'President', 'Ronald', 'Reagan', 'in', '1988', 'misidentified', 'the', 'person', 'who', 'praised', 'the', 'boxer', 'Joe', 'Louis', 'at', 'an', 'event', 'during', 'World', 'War', 'II.'], ['Louis', 'proclaimed', 'that', 'America', 'would', 'win', 'the', 'war', 'because', 'it', 'was', 'on', \"God's\", 'side.'], ['The', 'master', 'of', 'ceremonies,', 'who', 'praised', 'Louis,', 'was', 'the', 'former', 'mayor', 'of', 'New', 'York,', 'Jimmy', 'Walker,', 'not,', 'as', 'Mr.', 'Reagan', 'said,', 'the', 'comedian', 'George', 'Jessel.'], ['Democrats', 'once', 'went', 'to', 'court', 'to', 'desegregate', 'schools.'], ['But', 'in', 'Florida', \"they've\", 'been', 'fighting', 'to', 'kick', 'black', 'students', 'out', 'of', 'integrated', 'schools,', 'and', \"they've\", 'succeeded,', 'thanks', 'to', 'the', 'Democratic', 'majority', 'on', 'the', 'State', 'Supreme', 'Court.'], ['The', \"court's\", 'decision', 'on', 'Thursday', 'was', 'a', 'legally', 'incoherent', 'but', 'politically', 'creative', 'solution', 'to', 'a', 'delicate', 'problem.'], ['Ever', 'since', \"Florida's\", 'pioneering', 'statewide', 'voucher', 'program', 'began,', 'Democrats', 'have', 'been', 'struggling', 'to', 'deal', 'with', 'the', \"program's\", 'success.'], ['Most', 'of', 'recipients', 'have', 'been', 'black', 'students', 'like', 'Adrian', 'Bushell,', 'whom', 'I', 'wrote', 'about', 'last', 'year.'], ['Without', 'a', 'voucher,', 'he', 'would', 'have', 'attended', 'Miami', 'Edison,', 'a', 'big', 'public', 'high', 'school', 'in', 'a', 'poor', 'area', 'with', 'a', '94', 'percent', 'black', 'student', 'body', 'and', 'a', 'total', 'of', 'six', 'non-Hispanic', 'white', 'students.'], ['Instead,', \"he's\", 'now', 'a', '10th', 'grader', 'at', 'Monsignor', 'Edward', 'Pace,', 'a', 'Catholic', 'school', 'that', 'is', '24', 'percent', 'black.'], ['His', 'experience', 'is', 'typical.'], ['In', 'other', 'places', 'that', 'have', 'tried', 'vouchers,', 'like', 'Milwaukee', 'and', 'Cleveland,', 'studies', 'have', 'shown', 'that', 'voucher', 'recipients', 'tend', 'to', 'move', 'to', 'less', 'segregated', 'schools.'], ['Besides', 'helping', 'Adrian', \"(who's\", 'got', 'a', '3.1', 'average', 'and', 'plans', 'on', 'college),', 'the', 'Florida', 'program', 'has', 'also', 'benefited', 'students', 'in', 'public', 'schools', 'like', 'Miami', 'Edison.'], ['Because', 'each', 'voucher', 'is', 'worth', 'less', 'than', 'what', 'the', 'public', 'system', 'spends', 'per', 'student,', 'more', 'money', 'is', 'left', 'for', 'each', 'student', 'in', 'the', 'public', 'system.'], ['And', 'studies', 'have', 'repeatedly', 'shown', 'that', 'failing', 'Florida', 'schools', 'facing', 'voucher', 'competition', 'have', 'raised', 'their', 'test', 'scores', 'more', 'than', 'schools', 'not', 'facing', 'the', 'voucher', 'threat.'], ['A', 'program', 'that', 'desegregates', 'schools', 'and', 'improves', 'test', 'scores', \"wasn't\", 'easy', 'to', 'attack', 'in', 'the', 'Legislature,', 'but', 'the', 'courts', 'offered', 'a', 'more', 'promising', 'battleground', 'for', 'the', \"teachers'\", 'unions', 'trying', 'to', 'stop', 'it.'], [\"Florida's\", 'Constitution', 'has', 'a', 'version', 'of', 'the', 'Blaine', 'Amendment,', 'a', 'ban', 'on', 'aid', 'to', 'religious', 'institutions', 'that', 'might', 'be', 'construed', 'in', 'some', 'states', '(but', 'not', 'in', 'others)', 'to', 'prohibit', 'school', 'vouchers.'], ['A', 'lower', 'court', 'in', 'Florida', 'ruled', 'that', 'the', 'voucher', 'program', 'violated', 'the', 'ban', 'on', 'religious', 'aid.'], ['The', 'State', 'Supreme', 'Court', 'could', 'have', 'simply', 'affirmed', 'that', 'conclusion,', 'which', 'would', 'have', 'been', 'legally', 'defensible', '(although', 'mistaken,', 'in', 'my', 'view).'], ['But', 'then', 'it', 'would', 'have', 'faced', 'a', 'messy', 'new', 'set', 'of', 'questions.'], ['If', 'the', 'Blaine', 'Amendment', 'prohibited', 'vouchers,', \"couldn't\", 'it', 'also', 'prohibit', 'the', 'state', 'aid', 'now', 'going', 'to', 'hospitals,', 'colleges', 'and', 'preschool', 'programs', 'run', 'by', 'religious', 'institutions?'], ['Would', 'the', 'court', 'have', 'to', 'end', 'programs', 'that', 'were', 'popular', 'with', 'the', 'public', 'and', 'inoffensive', 'to', 'Democratic', \"teachers'\", 'unions?'], ['The', 'judges', 'ducked', 'these', 'inconvenient', 'questions', 'by', 'ignoring', 'the', 'Blaine', 'Amendment', 'and', 'using', 'another', 'rationale.'], ['They', 'ruled', 'that', 'the', 'voucher', 'program', 'violated', 'a', 'state', 'constitutional', 'requirement', 'to', 'provide', 'a', \"''uniform''\", 'system', 'of', 'public', 'schools.'], ['The', \"majority's\", 'decision', 'was', 'eviscerated', 'in', 'a', 'dissent', 'by', 'two', 'Republican', 'judges', 'who', 'use', 'adjectives', 'like', \"''nonsensical''\", 'to', 'describe', 'the', 'legal', 'reasoning.'], ['The', 'dissenters', 'argue', 'persuasively', 'that', 'nothing', 'in', 'the', 'Constitution', 'forbids', 'the', 'Legislature', 'from', 'setting', 'up', 'other', 'programs', 'beyond', 'the', 'public', 'school', 'system.'], ['The', 'decision', 'has', 'disillusioned', 'Adrian', 'and', 'his', 'grandmother,', 'Ramona', 'Nickson.'], [\"''I\", 'just', \"don't\", 'even', 'want', 'to', 'think', 'of', 'sending', 'him', 'back', 'to', 'public', \"school,''\", 'she', 'said.'], ['Other', 'parents', 'in', 'Florida', 'worry', 'that', 'more', 'programs', 'are', 'in', 'jeopardy,', 'like', 'the', 'scholarships', 'given', 'to', 'thousands', 'of', 'disabled', 'students', 'in', 'private', 'schools.'], ['Or', 'the', 'many', 'charter', 'schools', 'in', 'the', 'state,', 'which', 'may', 'not', 'suit', 'the', \"judges'\", 'personal', 'vision', 'of', 'a', \"''uniform''\", 'system.'], [\"''It's\", 'difficult', 'to', 'predict', 'what', 'will', 'happen', 'next', 'after', 'a', 'decision', 'as', 'devoid', 'of', 'legal', 'principle', 'as', 'this', \"one,''\", 'said', 'Clark', 'Neily', 'of', 'the', 'Institute', 'for', 'Justice,', 'which', 'represented', 'the', 'voucher', 'recipients', 'in', 'the', 'case.'], [\"''The\", 'judges', 'decided', 'what', 'decision', 'they', 'wanted', 'to', 'reach', 'and', 'worked', 'backward', 'from', \"there.''\"], ['Adrian', 'was', 'supported', 'by', 'the', 'Urban', 'League', 'of', 'Miami', 'and', 'other', 'advocacy', 'groups', 'for', 'blacks', 'and', 'Latinos,', 'but', 'not', 'the', 'N.A.A.C.P.'], ['It', 'abandoned', 'him', '--', 'and', 'the', 'majority', 'of', 'African-Americans,', 'who', 'favor', 'school', 'vouchers', '--', 'and', 'sided', 'with', 'the', \"teachers'\", 'unions.'], ['The', 'group', 'that', 'once', 'battled', 'the', \"segregationists'\", 'fiction', 'of', \"''separate\", 'but', \"equal''\", 'schools', 'signed', 'on', 'to', 'the', 'legal', 'fiction', 'that', \"there's\", 'something', 'admirably', \"''uniform''\", 'about', 'a', 'public', 'school', 'monopoly', 'that', 'keeps', 'students', 'in', \"Adrian's\", 'neighborhood', 'trapped', 'in', 'a', 'segregated,', 'inferior', 'school.'], [\"It's\", 'sad', 'to', 'see', 'the', 'N.A.A.C.P.'], ['working', 'to', 'keep', 'them', 'there,', 'but', \"it's\", 'not', 'surprising', 'now', 'that', 'the', 'group', 'is', 'virtually', 'an', 'arm', 'of', 'the', 'Democratic', 'Party.'], ['The', 'unions', 'dominating', 'that', 'party', 'have', 'no', 'qualms', 'about', 'sending', 'Adrian', 'back', 'to', 'a', 'segregated', 'school', 'that', 'has', 'just', 'lost', 'its', 'chief', 'incentive', 'to', 'improve.'], ['The', 'party', 'now', 'has', 'a', 'new', 'educational', 'motto:', 'separate', 'but', 'uniform.'], ['Op-Ed', 'Columnist']]\n"
     ]
    },
    {
     "data": {
      "text/plain": [
       "[]"
      ]
     },
     "execution_count": 7,
     "metadata": {},
     "output_type": "execute_result"
    }
   ],
   "source": [
    "get_train_data()"
   ]
  },
  {
   "cell_type": "code",
   "execution_count": 5,
   "metadata": {},
   "outputs": [],
   "source": [
    "def get_test_data(path='./all_c'):\n",
    "    data=[]\n",
    "    for entry in os.listdir(path):\n",
    "#         print(entry)\n",
    "#         print(os.path.join(path, entry+'/test'))\n",
    "        if os.path.isdir(os.path.join(path, entry+'/test')):\n",
    "#             print(Path(path+'\\\\'+entry+'\\\\test'))\n",
    "            for tst_file in os.listdir(path+'/'+entry+'/test'):\n",
    "                if(tst_file.endswith('.txt')):\n",
    "                    text = readtext(path+'/'+entry+'/test/'+tst_file)\n",
    "                    text = text.decode(\"utf-8\", \"replace\")\n",
    "                    for article in text.split('\\t'):\n",
    "                        if(len(article)>0):\n",
    "                            data.append((entry,featurize(article)))\n",
    "    return data"
   ]
  },
  {
   "cell_type": "code",
   "execution_count": 6,
   "metadata": {
    "scrolled": false
   },
   "outputs": [],
   "source": [
    "#print(get_train_data())"
   ]
  },
  {
   "cell_type": "code",
   "execution_count": 7,
   "metadata": {},
   "outputs": [],
   "source": [
    "#print(get_test_data())"
   ]
  },
  {
   "cell_type": "code",
   "execution_count": 8,
   "metadata": {},
   "outputs": [],
   "source": []
  },
  {
   "cell_type": "code",
   "execution_count": 9,
   "metadata": {},
   "outputs": [],
   "source": [
    "# lg=create_model()"
   ]
  },
  {
   "cell_type": "code",
   "execution_count": 20,
   "metadata": {},
   "outputs": [],
   "source": []
  },
  {
   "cell_type": "code",
   "execution_count": 21,
   "metadata": {},
   "outputs": [
    {
     "name": "stdout",
     "output_type": "stream",
     "text": [
      "[9, 0, 1, 7, 1, 2, 3, 2, 3, 3, 4, 4, 5, 5, 5, 10, 5, 7, 7, 5, 8, 7, 8, 9, 9, 2, 1]\n",
      "[0, 0, 1, 1, 1, 2, 2, 2, 3, 3, 4, 4, 5, 5, 5, 6, 6, 7, 7, 7, 8, 8, 8, 9, 9, 10, 10]\n",
      "\n",
      "true_label 0\n",
      "[0.26611178 0.00453514 0.00407061 0.00386069 0.00957406 0.00493223\n",
      " 0.00486716 0.00590099 0.12359651 0.53163671 0.04091414]\n",
      "true_label 0\n",
      "[0.55212557 0.00716817 0.00674045 0.00907956 0.02163855 0.00100753\n",
      " 0.01368293 0.00508058 0.03879159 0.30832    0.03636507]\n",
      "true_label 1\n",
      "[0.00703536 0.38256152 0.02270463 0.08260056 0.22017464 0.04300634\n",
      " 0.09410314 0.00715273 0.01680035 0.08986367 0.03399707]\n",
      "true_label 1\n",
      "[0.0289821  0.29702401 0.05649812 0.00357808 0.01618085 0.02063079\n",
      " 0.00784509 0.35994868 0.17963563 0.01662414 0.0130525 ]\n",
      "true_label 1\n",
      "[2.34556568e-02 7.77742539e-01 8.94237267e-03 3.99852497e-03\n",
      " 1.55121969e-01 5.77720797e-03 6.71462503e-04 6.00580434e-03\n",
      " 6.73611284e-03 9.87572085e-03 1.67262989e-03]\n",
      "true_label 2\n",
      "[2.20802466e-03 2.26195351e-02 9.07474496e-01 9.27236322e-04\n",
      " 1.16794937e-03 5.57911707e-05 3.28951294e-02 7.97831640e-03\n",
      " 5.51877269e-03 8.04484432e-05 1.90743008e-02]\n",
      "true_label 2\n",
      "[0.00417902 0.00594078 0.05352036 0.28917816 0.01032126 0.24383204\n",
      " 0.04904977 0.022361   0.09592307 0.03707977 0.18861478]\n",
      "true_label 2\n",
      "[0.11066731 0.18145109 0.22263607 0.05115719 0.00610179 0.19568372\n",
      " 0.02750969 0.17697653 0.02139369 0.0017912  0.00463171]\n",
      "true_label 3\n",
      "[1.48869695e-02 7.65292107e-03 4.63963986e-04 8.78762108e-01\n",
      " 4.26763716e-03 1.37844561e-03 1.12518048e-02 1.79946064e-03\n",
      " 3.19649645e-02 4.28595509e-02 4.71217419e-03]\n",
      "true_label 3\n",
      "[0.03149521 0.02906241 0.01309336 0.77372545 0.01530486 0.00113726\n",
      " 0.01988724 0.00478084 0.04646831 0.0264754  0.03856966]\n",
      "true_label 4\n",
      "[1.37766537e-04 1.55581580e-01 3.56948740e-04 4.70500261e-03\n",
      " 7.80531051e-01 2.92653340e-02 4.01719147e-03 2.62062422e-03\n",
      " 4.96142873e-03 4.46179952e-03 1.33612730e-02]\n",
      "true_label 4\n",
      "[4.10810053e-03 1.77122254e-01 5.41817268e-04 4.42122067e-04\n",
      " 7.57042907e-01 6.06155957e-03 2.80086801e-03 4.28116220e-02\n",
      " 1.02893160e-03 2.33408134e-03 5.70573699e-03]\n",
      "true_label 5\n",
      "[0.01337516 0.12997965 0.01306077 0.00383698 0.03299844 0.75084512\n",
      " 0.00349534 0.00883701 0.006237   0.01107051 0.02626403]\n",
      "true_label 5\n",
      "[0.05336424 0.09058613 0.21212013 0.0179834  0.00891403 0.5928006\n",
      " 0.00131993 0.00576569 0.01318854 0.00196747 0.00198984]\n",
      "true_label 5\n",
      "[0.29772827 0.06900633 0.08246401 0.00532997 0.00062659 0.53096739\n",
      " 0.0007847  0.00625343 0.00181725 0.00355591 0.00146613]\n",
      "true_label 6\n",
      "[0.02691894 0.04972161 0.12366532 0.03617381 0.09458798 0.0350077\n",
      " 0.19346181 0.01135271 0.00411064 0.01463908 0.41036039]\n",
      "true_label 6\n",
      "[0.00778438 0.09908795 0.05993556 0.14570673 0.01115849 0.38794763\n",
      " 0.01710582 0.05688376 0.18586284 0.0188907  0.00963614]\n",
      "true_label 7\n",
      "[5.00784040e-02 1.33529523e-02 8.55078639e-03 1.36396805e-03\n",
      " 1.77537705e-02 4.32051273e-04 2.28385134e-03 7.41647579e-01\n",
      " 1.42536798e-01 1.64427508e-02 5.55708783e-03]\n",
      "true_label 7\n",
      "[0.13281863 0.23041699 0.02328752 0.03089928 0.00189008 0.13088391\n",
      " 0.00413315 0.30651869 0.05155794 0.08076653 0.00682728]\n",
      "true_label 7\n",
      "[0.10839491 0.03810795 0.04376883 0.00537873 0.01238804 0.33475315\n",
      " 0.08876758 0.18165672 0.07308513 0.084153   0.02954596]\n",
      "true_label 8\n",
      "[0.16747504 0.01131926 0.17911956 0.01481019 0.00838171 0.01415458\n",
      " 0.01967257 0.08990782 0.43042291 0.05431984 0.01041652]\n",
      "true_label 8\n",
      "[0.05853623 0.01117067 0.00871584 0.06517596 0.00919448 0.0008881\n",
      " 0.07239218 0.34914966 0.23350681 0.17420201 0.01706805]\n",
      "true_label 8\n",
      "[0.21811746 0.05812224 0.05350128 0.10630154 0.01388287 0.00629706\n",
      " 0.01652709 0.01635962 0.32358649 0.13776973 0.04953462]\n",
      "true_label 9\n",
      "[0.0555104  0.00981775 0.00145612 0.00150964 0.0024048  0.04590379\n",
      " 0.01462139 0.12320529 0.30804434 0.43567988 0.00184659]\n",
      "true_label 9\n",
      "[4.62523909e-02 1.99681319e-02 5.09533043e-04 1.49070449e-02\n",
      " 1.08473302e-01 5.98791097e-03 9.26342814e-03 3.67299840e-02\n",
      " 1.56661710e-01 5.97713366e-01 3.53319768e-03]\n",
      "true_label 10\n",
      "[0.15414913 0.20801288 0.23396932 0.01259971 0.061579   0.00396339\n",
      " 0.00501403 0.00064755 0.03274924 0.11866636 0.16864938]\n",
      "true_label 10\n",
      "[0.00290264 0.49379992 0.07610171 0.00093978 0.00234579 0.00088879\n",
      " 0.00575561 0.0183434  0.0022662  0.00095092 0.39570523]\n",
      "\n",
      "9 incorrect out of 27\n",
      "\n",
      "Author John Tierney\n",
      "precision 1.0\n",
      "recall 0.5\n",
      "f1score 0.6667\n",
      "\n",
      "Author Simon Romero\n",
      "precision 0.6667\n",
      "recall 0.6667\n",
      "f1score 0.6667\n",
      "\n",
      "Author Adam Liptak\n",
      "precision 0.6667\n",
      "recall 0.6667\n",
      "f1score 0.6667\n",
      "\n",
      "Author Alessandra Stanley\n",
      "precision 0.6667\n",
      "recall 1.0\n",
      "f1score 0.8\n",
      "\n",
      "Author Terry Pristin\n",
      "precision 1.0\n",
      "recall 1.0\n",
      "f1score 1.0\n",
      "\n",
      "Author Robert Pear\n",
      "precision 0.6\n",
      "recall 1.0\n",
      "f1score 0.75\n",
      "\n",
      "Author Sarah Kreshaw\n",
      "precision 0.0\n",
      "recall 0.0\n",
      "f1score 0.0\n",
      "\n",
      "Author Adam Nagoury\n",
      "precision 0.5\n",
      "recall 0.6667\n",
      "f1score 0.5714\n",
      "\n",
      "Author Maureen Dowd\n",
      "precision 1.0\n",
      "recall 0.6667\n",
      "f1score 0.8\n",
      "\n",
      "Author Nicholas\n",
      "precision 0.6667\n",
      "recall 1.0\n",
      "f1score 0.8\n",
      "\n",
      "Author Alan Ridding\n",
      "precision 0.0\n",
      "recall 0.0\n",
      "f1score 0.0\n",
      "\n"
     ]
    },
    {
     "name": "stderr",
     "output_type": "stream",
     "text": [
      "/home/abhilash/.local/lib/python3.7/site-packages/sklearn/linear_model/logistic.py:432: FutureWarning: Default solver will be changed to 'lbfgs' in 0.22. Specify a solver to silence this warning.\n",
      "  FutureWarning)\n",
      "/home/abhilash/.local/lib/python3.7/site-packages/sklearn/linear_model/logistic.py:459: FutureWarning: Default multi_class will be changed to 'auto' in 0.22. Specify the multi_class option to silence this warning.\n",
      "  \"this warning.\", FutureWarning)\n"
     ]
    },
    {
     "data": {
      "text/plain": [
       "{'avg f1': 0.61}"
      ]
     },
     "execution_count": 21,
     "metadata": {},
     "output_type": "execute_result"
    }
   ],
   "source": []
  },
  {
   "cell_type": "code",
   "execution_count": null,
   "metadata": {},
   "outputs": [],
   "source": []
  },
  {
   "cell_type": "code",
   "execution_count": null,
   "metadata": {},
   "outputs": [],
   "source": []
  }
 ],
 "metadata": {
  "kernelspec": {
   "display_name": "Python 3",
   "language": "python",
   "name": "python3"
  },
  "language_info": {
   "codemirror_mode": {
    "name": "ipython",
    "version": 3
   },
   "file_extension": ".py",
   "mimetype": "text/x-python",
   "name": "python",
   "nbconvert_exporter": "python",
   "pygments_lexer": "ipython3",
   "version": "3.7.1"
  }
 },
 "nbformat": 4,
 "nbformat_minor": 2
}
