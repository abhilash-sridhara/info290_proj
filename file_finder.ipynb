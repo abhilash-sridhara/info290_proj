{
 "cells": [
  {
   "cell_type": "code",
   "execution_count": 1,
   "metadata": {},
   "outputs": [],
   "source": [
    "import os\n",
    "import xml.etree.ElementTree as ET\n",
    "from pathlib import Path\n",
    "# file = './01/1728669.xml'\n",
    "# tree = ET.parse('./01/1728669.xml')\n",
    "# root = tree.getroot()\n",
    "# head = root[0]\n",
    "# body = root[1]"
   ]
  },
  {
   "cell_type": "code",
   "execution_count": 2,
   "metadata": {},
   "outputs": [
    {
     "data": {
      "text/plain": [
       "'fileName\\tdsk\\tauthor\\n'"
      ]
     },
     "execution_count": 2,
     "metadata": {},
     "output_type": "execute_result"
    }
   ],
   "source": [
    "s='fileName\\tdsk\\tauthor\\n'\n",
    "s"
   ]
  },
  {
   "cell_type": "code",
   "execution_count": null,
   "metadata": {},
   "outputs": [],
   "source": [
    "for meta in head.findall('meta'):\n",
    "#     print(meta.attrib.items())\n",
    "    if ('name', 'dsk') in meta.attrib.items():\n",
    "        s+=file+'\\t'+meta.attrib['content']\n",
    "for b_head in body[0].findall('byline'):\n",
    "    if ('print_byline' in b_head.attrib.values()):\n",
    "        s+='\\t'+b_head.text"
   ]
  },
  {
   "cell_type": "code",
   "execution_count": null,
   "metadata": {},
   "outputs": [],
   "source": [
    "s"
   ]
  },
  {
   "cell_type": "code",
   "execution_count": 46,
   "metadata": {},
   "outputs": [],
   "source": [
    "auth_dict={}"
   ]
  },
  {
   "cell_type": "code",
   "execution_count": 3,
   "metadata": {},
   "outputs": [
    {
     "data": {
      "text/plain": [
       "7374"
      ]
     },
     "execution_count": 3,
     "metadata": {},
     "output_type": "execute_result"
    }
   ],
   "source": [
    "def getfiles(path='./2007'):\n",
    "    files=[]\n",
    "#     print(path)\n",
    "    for entry in os.listdir(path):\n",
    "#         print(entry)\n",
    "        p = Path(path+'\\\\'+entry)\n",
    "#         print(p)\n",
    "        if os.path.isdir(p):            \n",
    "            files+=getfiles(path+'/'+entry)\n",
    "        if str(entry).endswith('.xml'):\n",
    "            files.append(str(p))\n",
    "    return files\n",
    "        \n",
    "files=getfiles()\n",
    "len(files)"
   ]
  },
  {
   "cell_type": "code",
   "execution_count": 4,
   "metadata": {},
   "outputs": [],
   "source": [
    "def parse_files():\n",
    "    s=''\n",
    "    for file in files:\n",
    "#         print(file)\n",
    "        tree = ET.parse(file)\n",
    "        root = tree.getroot()\n",
    "        head = root[0]\n",
    "        body = root[1]\n",
    "        dsk=''\n",
    "        auth=''\n",
    "        for meta in head.findall('meta'):                        \n",
    "            if ('name', 'dsk') in meta.attrib.items():\n",
    "                dsk=meta.attrib['content']\n",
    "                break\n",
    "        for b_head in body[0].findall('byline'):\n",
    "            if ('print_byline' in b_head.attrib.values()):\n",
    "                auth=b_head.text\n",
    "                break\n",
    "        if dsk!='' and auth !='':\n",
    "            s+=file+'\\t'+dsk+'\\t'+auth+'\\n'\n",
    "    return s"
   ]
  },
  {
   "cell_type": "code",
   "execution_count": 5,
   "metadata": {},
   "outputs": [],
   "source": [
    "s+=parse_files()\n"
   ]
  },
  {
   "cell_type": "code",
   "execution_count": 6,
   "metadata": {},
   "outputs": [],
   "source": [
    "with open('files_3.tsv','w', encoding='utf-8') as f:\n",
    "    f.write(s)"
   ]
  },
  {
   "cell_type": "code",
   "execution_count": 7,
   "metadata": {},
   "outputs": [
    {
     "data": {
      "text/plain": [
       "' I have news. Bad news'"
      ]
     },
     "execution_count": 7,
     "metadata": {},
     "output_type": "execute_result"
    }
   ],
   "source": [
    "import re\n",
    "text ='\"I am ispmeralda\" I have news. Bad news'\n",
    "re.sub('\"[\\S\\s]*?\"','',text)"
   ]
  }
 ],
 "metadata": {
  "kernelspec": {
   "display_name": "Python 3",
   "language": "python",
   "name": "python3"
  },
  "language_info": {
   "codemirror_mode": {
    "name": "ipython",
    "version": 3
   },
   "file_extension": ".py",
   "mimetype": "text/x-python",
   "name": "python",
   "nbconvert_exporter": "python",
   "pygments_lexer": "ipython3",
   "version": "3.6.5"
  }
 },
 "nbformat": 4,
 "nbformat_minor": 2
}
